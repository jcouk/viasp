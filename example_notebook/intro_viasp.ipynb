{
 "cells": [
  {
   "cell_type": "markdown",
   "metadata": {},
   "source": [
    "# Introduction to viASP\n",
    "\n",
    "\n",
    "viASP is a visualization and interactive explanation tool for ASP programs and their stable models.\n",
    "\n",
    "<!-- ![Example visualization](../docs/img/header.png) -->\n",
    "\n",
    "To visualize ASP programs in a jupyter notebook, simply import viasp_jupyter."
   ]
  },
  {
   "cell_type": "code",
   "execution_count": 1,
   "metadata": {},
   "outputs": [],
   "source": [
    "# this also starts the backend \n",
    "import viasp_jupyter as vj"
   ]
  },
  {
   "cell_type": "markdown",
   "metadata": {},
   "source": [
    "Save the program in same the directory as the notebook."
   ]
  },
  {
   "cell_type": "code",
   "execution_count": 11,
   "metadata": {},
   "outputs": [
    {
     "name": "stdout",
     "output_type": "stream",
     "text": [
      "Overwriting ab.lp\n"
     ]
    }
   ],
   "source": [
    "%%file ab.lp\n",
    "{a}.\n",
    "b :- a."
   ]
  },
  {
   "cell_type": "markdown",
   "metadata": {},
   "source": [
    "Call viasp to load the program and show it."
   ]
  },
  {
   "cell_type": "code",
   "execution_count": 10,
   "metadata": {},
   "outputs": [
    {
     "name": "stdout",
     "output_type": "stream",
     "text": [
      "Answer:\n",
      "c\n",
      "Answer:\n",
      "a b c\n",
      "SAT\n",
      "[INFO] (2022-07-26 15:41:54) Set models.\n",
      "[INFO] (2022-07-26 15:41:54) Reconstructing in progress.\n",
      "[INFO] (2022-07-26 15:41:54) Drawing in progress.\n"
     ]
    },
    {
     "data": {
      "text/html": [
       "\n",
       "        <iframe\n",
       "            width=\"100%\"\n",
       "            height=\"650\"\n",
       "            src=\"http://127.0.0.1:8050/\"\n",
       "            frameborder=\"0\"\n",
       "            allowfullscreen\n",
       "            \n",
       "        ></iframe>\n",
       "        "
      ],
      "text/plain": [
       "<IPython.lib.display.IFrame at 0x7f5b0f5397e0>"
      ]
     },
     "metadata": {},
     "output_type": "display_data"
    }
   ],
   "source": [
    "vj.load(argv=['ab.lp'])\n",
    "vj.app.run_server(mode='inline')"
   ]
  },
  {
   "cell_type": "markdown",
   "metadata": {},
   "source": [
    "The server supports modes `inline` with visualizations in the notebook, and `external` with visualizations on [http://127.0.0.1:8050/](http://127.0.0.1:8050/)."
   ]
  },
  {
   "cell_type": "code",
   "execution_count": 4,
   "metadata": {},
   "outputs": [
    {
     "name": "stdout",
     "output_type": "stream",
     "text": [
      "Overwriting traveling.lp\n"
     ]
    }
   ],
   "source": [
    "%%file traveling.lp\n",
    "\n",
    "start(a).\n",
    "road(a,b). road(b,c). road(c,d). road(d,a).\n",
    "\n",
    "visit(Y) :- road(X,Y), start(X).\n",
    "\n",
    "visit(Y) :- road(X,Y), visit(X)."
   ]
  },
  {
   "cell_type": "code",
   "execution_count": 7,
   "metadata": {},
   "outputs": [
    {
     "name": "stdout",
     "output_type": "stream",
     "text": [
      "Answer:\n",
      "start(a) road(a,b) road(b,c) road(c,d) road(d,a) visit(b) visit(c) visit(d) visit(a)\n",
      "SAT\n",
      "[INFO] (2022-07-26 15:40:04) Set models.\n",
      "[INFO] (2022-07-26 15:40:04) Reconstructing in progress.\n",
      "[INFO] (2022-07-26 15:40:04) Drawing in progress.\n",
      "Dash app running on http://127.0.0.1:8050/\n"
     ]
    }
   ],
   "source": [
    "vj.load(argv=['traveling.lp'])\n",
    "vj.app.run_server(mode='external')"
   ]
  }
 ],
 "metadata": {
  "kernelspec": {
   "display_name": "Python 3.10.4 ('test')",
   "language": "python",
   "name": "python3"
  },
  "language_info": {
   "codemirror_mode": {
    "name": "ipython",
    "version": 3
   },
   "file_extension": ".py",
   "mimetype": "text/x-python",
   "name": "python",
   "nbconvert_exporter": "python",
   "pygments_lexer": "ipython3",
   "version": "3.10.4"
  },
  "orig_nbformat": 4,
  "vscode": {
   "interpreter": {
    "hash": "5c1ebc399513c11de6b54ef39777dc41142bb72cf5f8a0ad34de1d69a1d9b403"
   }
  }
 },
 "nbformat": 4,
 "nbformat_minor": 2
}
