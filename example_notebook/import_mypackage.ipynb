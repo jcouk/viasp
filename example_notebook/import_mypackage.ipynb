{
 "cells": [
  {
   "cell_type": "markdown",
   "metadata": {},
   "source": [
    "# TEST NOTEBOOK"
   ]
  },
  {
   "cell_type": "markdown",
   "metadata": {},
   "source": [
    "It is convenient to provide an example Jupyter notebook for a new package and add the hooks necessary to run the example with Binder. However, normally the package will not be included in the python path. To do that, one needs a setup.py for the package (see binder docs). Once this is done, it is possible to import the package in a notebook running within Binder."
   ]
  },
  {
   "cell_type": "code",
   "execution_count": 1,
   "metadata": {},
   "outputs": [],
   "source": [
    "# If mypackage isn't included in the python path, then one would need to add it\n",
    "\n",
    "#import sys\n",
    "#sys.path.append('..')"
   ]
  },
  {
   "cell_type": "markdown",
   "metadata": {},
   "source": [
    "But if the repository has a setup.py binder (repo2docker) will run pip install -e .."
   ]
  },
  {
   "cell_type": "code",
   "execution_count": 2,
   "metadata": {},
   "outputs": [],
   "source": [
    "import viasp_jupyter as vj\n"
   ]
  },
  {
   "cell_type": "code",
   "execution_count": 3,
   "metadata": {},
   "outputs": [
    {
     "data": {
      "text/plain": [
       "['__builtins__',\n",
       " '__cached__',\n",
       " '__doc__',\n",
       " '__file__',\n",
       " '__loader__',\n",
       " '__main__',\n",
       " '__name__',\n",
       " '__package__',\n",
       " '__path__',\n",
       " '__spec__',\n",
       " '__version__',\n",
       " 'app',\n",
       " 'load']"
      ]
     },
     "execution_count": 3,
     "metadata": {},
     "output_type": "execute_result"
    }
   ],
   "source": [
    "dir(vj)"
   ]
  },
  {
   "cell_type": "code",
   "execution_count": 4,
   "metadata": {},
   "outputs": [
    {
     "name": "stdout",
     "output_type": "stream",
     "text": [
      "Overwriting visit.lp\n"
     ]
    }
   ],
   "source": [
    "%%writefile visit.lp\n",
    "\n",
    "edge(1,2).edge(2,3).edge(3,4).\n",
    "reach(1).\n",
    "\n",
    "reach(X) :- edge(Y,X), reach(Y).\n",
    "\n",
    "good(X,Y) :- reach(X), reach(Y), edge(X,Y).\n"
   ]
  },
  {
   "cell_type": "code",
   "execution_count": 5,
   "metadata": {},
   "outputs": [
    {
     "name": "stdout",
     "output_type": "stream",
     "text": [
      "Answer:\n",
      "reach(1) reach(2) reach(3) reach(4) edge(1,2) edge(2,3) edge(3,4) good(1,2) good(2,3) good(3,4)\n",
      "SAT\n",
      "[INFO] (2022-07-26 12:34:13) Set models.\n",
      "[INFO] (2022-07-26 12:34:13) Reconstructing in progress.\n",
      "[INFO] (2022-07-26 12:34:13) Drawing in progress.\n"
     ]
    },
    {
     "data": {
      "text/html": [
       "\n",
       "        <iframe\n",
       "            width=\"100%\"\n",
       "            height=\"650\"\n",
       "            src=\"http://127.0.0.1:8050/\"\n",
       "            frameborder=\"0\"\n",
       "            allowfullscreen\n",
       "            \n",
       "        ></iframe>\n",
       "        "
      ],
      "text/plain": [
       "<IPython.lib.display.IFrame at 0x7f7dfe906e90>"
      ]
     },
     "metadata": {},
     "output_type": "display_data"
    }
   ],
   "source": [
    "vj.load(argv=['visit.lp'])\n",
    "vj.app.run_server(mode='inline')"
   ]
  }
 ],
 "metadata": {
  "kernelspec": {
   "display_name": "Python 3.10.4 ('test')",
   "language": "python",
   "name": "python3"
  },
  "language_info": {
   "codemirror_mode": {
    "name": "ipython",
    "version": 3
   },
   "file_extension": ".py",
   "mimetype": "text/x-python",
   "name": "python",
   "nbconvert_exporter": "python",
   "pygments_lexer": "ipython3",
   "version": "3.10.4"
  },
  "orig_nbformat": 4,
  "vscode": {
   "interpreter": {
    "hash": "5c1ebc399513c11de6b54ef39777dc41142bb72cf5f8a0ad34de1d69a1d9b403"
   }
  }
 },
 "nbformat": 4,
 "nbformat_minor": 2
}
