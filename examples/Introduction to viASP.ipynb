{
 "cells": [
  {
   "cell_type": "markdown",
   "metadata": {},
   "source": [
    "# <center>Introduction to viASP</center>\n",
    "\n",
    "\n",
    "<!-- viASP is a visualization and interactive explanation tool for ASP programs and their stable models.\n",
    "\n",
    "viASP allows you to explore the visualization in a variety of ways:\n",
    "\n",
    "* Inspect iterations of recursive rules individually\n",
    "* Explain the derivation of symbols with arrows\n",
    "* Relax the constraints of unsatisfiable programs\n",
    "* Toggle parts of the program\n",
    "* Show the added symbols or all of them\n",
    "* Inspect a single model\n",
    "* Add `#show` statements on the fly\n",
    "* Search models, signatures and rules.\n",
    "\n",
    "![Example visualization](../docs/img/header.png) -->"
   ]
  },
  {
   "cell_type": "code",
   "execution_count": null,
   "metadata": {},
   "outputs": [],
   "source": [
    "%%file sprinkler.lp\n",
    "1{rain;sprinkler}1.\n",
    "wet :- rain.\n",
    "wet :- sprinkler."
   ]
  },
  {
   "cell_type": "markdown",
   "metadata": {},
   "source": [
    "To start visualizing ASP programs in a jupyter notebook, simply import viasp_jupyter. This will start the viASP backend."
   ]
  },
  {
   "cell_type": "code",
   "execution_count": null,
   "metadata": {},
   "outputs": [],
   "source": [
    "from viasp import Control\n",
    "from viasp.server import startup\n",
    "\n",
    "app = startup.run()\n",
    "\n",
    "\n",
    "options = ['0']\n",
    "programs = ['sprinkler.lp']\n",
    "\n",
    "ctl = Control(options)\n",
    "for path in programs:\n",
    "    ctl.load(path)\n",
    "ctl.ground([(\"base\", [])])\n",
    "\n",
    "with ctl.solve(yield_=True) as handle:\n",
    "    for m in handle:\n",
    "        print(\"Answer:\\n{}\".format(m))\n",
    "        ctl.viasp.mark(m)\n",
    "    print(handle.get())\n",
    "ctl.viasp.show()\n",
    "app.run()\n"
   ]
  },
  {
   "cell_type": "markdown",
   "metadata": {},
   "source": [
    "<!-- The server supports modes `inline` with visualizations in the notebook, and `external` with visualizations on [http://localhost:8050/](http://localhost:8050/). If the notebook is running in Binder, the frontend is served on port 8050 through the Binder proxy. -->\n",
    "\n",
    "Note that in Binder, it is necessary to reload the visualization using the `Click to Restart and Run` button. This takes up to 10 seconds."
   ]
  },
  {
   "cell_type": "markdown",
   "metadata": {},
   "source": [
    "# 2. The ``Control`` Proxy\n",
    "\n",
    "If you already have a running clingo program and want to add viASP visualizations, you can use the proxy viASP ``Control`` object. This object is a wrapper around a clingo ``Control`` object and adds viASP functionality. "
   ]
  },
  {
   "cell_type": "code",
   "execution_count": null,
   "metadata": {},
   "outputs": [],
   "source": [
    "%%file hamiltonian.lp\n",
    "\n",
    "node(1..4). start(1).\n",
    "edge(1,2). edge(2,3). edge(2,4). edge(3,1).\n",
    "edge(3,4). edge(4,1). edge(4,3).\n",
    "{ hc(V,U) } :- edge(V,U).\n",
    "reached(V) :- hc(S,V), start(S).\n",
    "reached(V) :- reached(U), hc(U,V).\n",
    ":- node(V), not reached(V).\n",
    ":- hc(V,U), hc(V,W), U!=W.\n",
    ":- hc(U,V), hc(W,V), U!=W."
   ]
  },
  {
   "cell_type": "code",
   "execution_count": null,
   "metadata": {},
   "outputs": [],
   "source": [
    "from clingo.application import clingo_main, Application\n",
    "from viasp import Control\n",
    "from viasp.server import startup\n",
    "class App(Application):\n",
    "\n",
    "    def main(self, ctl, files):\n",
    "        ctl = Control(control=ctl, files=files)\n",
    "\n",
    "        for path in files:\n",
    "            ctl.load(path)\n",
    "        ctl.ground([(\"base\", [])])\n",
    "        with ctl.solve(yield_=True) as handle:\n",
    "            for m in handle:\n",
    "                ctl.viasp.mark(m)\n",
    "            print(handle.get())\n",
    "        ctl.viasp.show()\n",
    "\n",
    "\n",
    "app = startup.run()\n",
    "if __name__ == \"__main__\":\n",
    "    clingo_main(App(), ['0', 'hamiltonian.lp'])\n",
    "    app.run()\n"
   ]
  },
  {
   "cell_type": "markdown",
   "metadata": {},
   "source": [
    "# 3. The adaptable way: Using the viASP ``api`` independently of Clingo\n",
    "\n",
    "If you already have a program and its stable models, you can use the viASP python ``api``. You can directly mark the stable models without solving the program again. "
   ]
  },
  {
   "cell_type": "code",
   "execution_count": null,
   "metadata": {},
   "outputs": [],
   "source": [
    "%%file sprinkler.lp\n",
    "\n",
    "1{rain;sprinkler}1.\n",
    "wet :- rain.\n",
    "wet :- sprinkler."
   ]
  },
  {
   "cell_type": "code",
   "execution_count": null,
   "metadata": {},
   "outputs": [],
   "source": [
    "from viasp.viasp_jupyter import app \n",
    "import viasp\n",
    "\n",
    "viasp.add_program_file('sprinkler.lp')\n",
    "viasp.mark_from_string('rain.wet.')\n",
    "viasp.mark_from_string('sprinkler.wet.')\n",
    "viasp.show()\n",
    "app.run_server(mode='inline')\n"
   ]
  },
  {
   "cell_type": "markdown",
   "metadata": {},
   "source": [
    "Debugging information is available in the log file `viasp.log`."
   ]
  }
 ],
 "metadata": {
  "kernelspec": {
   "display_name": "Python 3 (ipykernel)",
   "language": "python",
   "name": "python3"
  },
  "language_info": {
   "codemirror_mode": {
    "name": "ipython",
    "version": 3
   },
   "file_extension": ".py",
   "mimetype": "text/x-python",
   "name": "python",
   "nbconvert_exporter": "python",
   "pygments_lexer": "ipython3",
   "version": "3.10.4"
  },
  "varInspector": {
   "cols": {
    "lenName": 16,
    "lenType": 16,
    "lenVar": 40
   },
   "kernels_config": {
    "python": {
     "delete_cmd_postfix": "",
     "delete_cmd_prefix": "del ",
     "library": "var_list.py",
     "varRefreshCmd": "print(var_dic_list())"
    },
    "r": {
     "delete_cmd_postfix": ") ",
     "delete_cmd_prefix": "rm(",
     "library": "var_list.r",
     "varRefreshCmd": "cat(var_dic_list()) "
    }
   },
   "types_to_exclude": [
    "module",
    "function",
    "builtin_function_or_method",
    "instance",
    "_Feature"
   ],
   "window_display": false
  },
  "vscode": {
   "interpreter": {
    "hash": "1785f8d9ecd06a5253af1fb2e0a107be454014433d34b629cfe3c91c9b2ab96a"
   }
  }
 },
 "nbformat": 4,
 "nbformat_minor": 2
}
