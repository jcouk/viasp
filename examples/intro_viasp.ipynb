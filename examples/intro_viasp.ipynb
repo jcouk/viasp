{
 "cells": [
  {
   "cell_type": "markdown",
   "metadata": {},
   "source": [
    "# Introduction to viASP\n",
    "\n",
    "\n",
    "viASP is a visualization and interactive explanation tool for ASP programs and their stable models.\n",
    "\n",
    "![Example visualization](../docs/img/header.png)"
   ]
  },
  {
   "cell_type": "markdown",
   "metadata": {},
   "source": [
    "Save the program in same the directory as the notebook."
   ]
  },
  {
   "cell_type": "code",
   "execution_count": null,
   "metadata": {},
   "outputs": [],
   "source": [
    "%%file ab.lp\n",
    "{a}.\n",
    "b :- a."
   ]
  },
  {
   "cell_type": "markdown",
   "metadata": {},
   "source": [
    "To start visualizing ASP programs in a jupyter notebook, simply import viasp_jupyter. This will start the viASP backend.\n",
    "\n",
    "Note: sometimes there are problems with starting the backend in binder. In that case, restart the kernel and run the cell again until it shows a backend is running at URL ending with `/proxy/5050`."
   ]
  },
  {
   "cell_type": "code",
   "execution_count": null,
   "metadata": {},
   "outputs": [],
   "source": [
    "import viasp_jupyter as vj\n",
    "vj.app.run_server(mode='inline')\n",
    "vj.load(argv=['ab.lp'])"
   ]
  },
  {
   "cell_type": "markdown",
   "metadata": {},
   "source": [
    "The server supports modes `inline` with visualizations in the notebook, and `external` with visualizations on [http://localhost:8050/](http://localhost:8050/). If the notebook is running in Binder, the frontend is served on port 8050 through the Binder proxy.\n",
    "\n",
    "Note that in Binder, it is necessary to reload the visualization using the `Click to Restart and Run` button. This takes up to 10 seconds."
   ]
  },
  {
   "cell_type": "code",
   "execution_count": null,
   "metadata": {},
   "outputs": [],
   "source": [
    "%%file traveling.lp\n",
    "\n",
    "start(a).\n",
    "road(a,b). road(b,c). road(c,d). road(d,a).\n",
    "\n",
    "visit(Y) :- road(X,Y), start(X).\n",
    "\n",
    "visit(Y) :- road(X,Y), visit(X)."
   ]
  },
  {
   "cell_type": "markdown",
   "metadata": {},
   "source": [
    "Debugging information is available in the log file `viasp.log`."
   ]
  }
 ],
 "metadata": {
  "kernelspec": {
   "display_name": "Python 3.10.4 ('devviasp')",
   "language": "python",
   "name": "python3"
  },
  "language_info": {
   "codemirror_mode": {
    "name": "ipython",
    "version": 3
   },
   "file_extension": ".py",
   "mimetype": "text/x-python",
   "name": "python",
   "nbconvert_exporter": "python",
   "pygments_lexer": "ipython3",
   "version": "3.10.4"
  },
  "orig_nbformat": 4,
  "vscode": {
   "interpreter": {
    "hash": "1785f8d9ecd06a5253af1fb2e0a107be454014433d34b629cfe3c91c9b2ab96a"
   }
  }
 },
 "nbformat": 4,
 "nbformat_minor": 2
}
