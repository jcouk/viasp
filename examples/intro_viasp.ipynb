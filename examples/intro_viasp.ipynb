{
 "cells": [
  {
   "attachments": {},
   "cell_type": "markdown",
   "metadata": {},
   "source": [
    "# Introduction to viASP\n",
    "\n",
    "\n",
    "viASP is a visualization and interactive explanation tool for ASP programs and their stable models.\n",
    "\n",
    "viASP allows you to explore the visualization in a variety of ways:\n",
    "\n",
    "* Inspect iterations of recursive rules individually\n",
    "* Explain the derivation of symbols with arrows\n",
    "* Relax the constraints of unsatisfiable programs\n",
    "* Toggle parts of the program\n",
    "* Show the added symbols or all of them\n",
    "* Inspect a single model\n",
    "* Add `#show` statements on the fly\n",
    "* Search models, signatures and rules.\n",
    "\n",
    "![Example visualization](../docs/img/header.png)"
   ]
  },
  {
   "attachments": {},
   "cell_type": "markdown",
   "metadata": {},
   "source": [
    "# Three Ways of working with viASP\n",
    "\n",
    "viASP can be used in three ways:\n",
    "1. The quick way: Using viasp-jupyter's ``load()``\n",
    "2. The classic way: Using the proxy viASP ``Control`` object\n",
    "3. The adaptable way: Using the viASP ``api`` independently of Clingo\n",
    "\n",
    "\n",
    "\n",
    "## 1. The quick way: Using viasp-jupyter's ``load()``\n"
   ]
  },
  {
   "cell_type": "code",
   "execution_count": null,
   "metadata": {},
   "outputs": [],
   "source": [
    "%%file j.lp\n",
    "{a}.\n",
    "j(X,X+1):-X=0..2.\n",
    "j(X,Y):-j(X,Z),j(Z,Y)."
   ]
  },
  {
   "attachments": {},
   "cell_type": "markdown",
   "metadata": {},
   "source": [
    "To start visualizing ASP programs in a jupyter notebook, simply import viasp_jupyter. This will start the viASP backend.\n",
    "\n",
    "**Note for binder**: sometimes there are problems with starting the backend in binder. In that case, restart the kernel and run the cell again until it shows a backend is running at URL ending with `/proxy/5050`."
   ]
  },
  {
   "cell_type": "code",
   "execution_count": null,
   "metadata": {},
   "outputs": [],
   "source": [
    "import viasp.viasp_jupyter as vj\n",
    "\n",
    "vj.load(argv=['j.lp'])\n",
    "vj.app.run_server(mode='inline')"
   ]
  },
  {
   "cell_type": "markdown",
   "metadata": {},
   "source": [
    "The server supports modes `inline` with visualizations in the notebook, and `external` with visualizations on [http://localhost:8050/](http://localhost:8050/). If the notebook is running in Binder, the frontend is served on port 8050 through the Binder proxy.\n",
    "\n",
    "Note that in Binder, it is necessary to reload the visualization using the `Click to Restart and Run` button. This takes up to 10 seconds."
   ]
  },
  {
   "attachments": {},
   "cell_type": "markdown",
   "metadata": {},
   "source": [
    "# 2. The classic way: Using the proxy viASP ``Control`` object\n",
    "\n",
    "If you already have a running clingo program and want to add viASP visualizations, you can use the proxy viASP ``Control`` object. This object is a wrapper around a clingo ``Control`` object and adds viASP functionality. "
   ]
  },
  {
   "cell_type": "code",
   "execution_count": null,
   "metadata": {},
   "outputs": [],
   "source": [
    "%%file traveling.lp\n",
    "\n",
    "start(a).\n",
    "road(a,b). road(b,c). road(c,d). road(d,a).\n",
    "\n",
    "visit(Y) :- road(X,Y), start(X).\n",
    "\n",
    "visit(Y) :- road(X,Y), visit(X).\n"
   ]
  },
  {
   "cell_type": "code",
   "execution_count": null,
   "metadata": {},
   "outputs": [],
   "source": [
    "from viasp import Control\n",
    "from viasp.viasp_jupyter import app \n",
    "\n",
    "ctl = Control(['0'])\n",
    "ctl.load('traveling.lp')\n",
    "ctl.ground([(\"base\", [])])\n",
    "with ctl.solve(yield_=True) as handle:\n",
    "    for m in handle:\n",
    "        ctl.viasp.mark(m)\n",
    "        print(\"Answer:\\n{}\".format(m))\n",
    "    print(handle.get())\n",
    "ctl.viasp.show()\n",
    "app.run_server(mode='inline')\n"
   ]
  },
  {
   "attachments": {},
   "cell_type": "markdown",
   "metadata": {},
   "source": [
    "# 3. The adaptable way: Using the viASP ``api`` independently of Clingo\n",
    "\n",
    "If you already have a program and its stable models, you can use the viASP python ``api``. You can directly mark the stable models without solving the program again. "
   ]
  },
  {
   "cell_type": "code",
   "execution_count": null,
   "metadata": {},
   "outputs": [],
   "source": [
    "%%file sprinkler.lp\n",
    "\n",
    "1{rain;sprinkler}1.\n",
    "wet :- rain.\n",
    "wet :- sprinkler."
   ]
  },
  {
   "cell_type": "code",
   "execution_count": null,
   "metadata": {},
   "outputs": [],
   "source": [
    "from viasp.viasp_jupyter import app \n",
    "import viasp\n",
    "\n",
    "viasp.add_program_file('sprinkler.lp')\n",
    "viasp.mark_from_string('rain.wet.')\n",
    "viasp.mark_from_string('sprinkler.wet.')\n",
    "viasp.show()\n",
    "app.run_server(mode='inline')\n"
   ]
  },
  {
   "cell_type": "markdown",
   "metadata": {},
   "source": [
    "Debugging information is available in the log file `viasp.log`."
   ]
  }
 ],
 "metadata": {
  "kernelspec": {
   "display_name": "Python 3.10.4 ('devviasp')",
   "language": "python",
   "name": "python3"
  },
  "language_info": {
   "codemirror_mode": {
    "name": "ipython",
    "version": 3
   },
   "file_extension": ".py",
   "mimetype": "text/x-python",
   "name": "python",
   "nbconvert_exporter": "python",
   "pygments_lexer": "ipython3",
   "version": "3.10.4"
  },
  "orig_nbformat": 4,
  "vscode": {
   "interpreter": {
    "hash": "1785f8d9ecd06a5253af1fb2e0a107be454014433d34b629cfe3c91c9b2ab96a"
   }
  }
 },
 "nbformat": 4,
 "nbformat_minor": 2
}
