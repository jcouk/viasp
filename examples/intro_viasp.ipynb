{
 "cells": [
  {
   "cell_type": "markdown",
   "metadata": {},
   "source": [
    "# Introduction to viASP\n",
    "\n",
    "\n",
    "viASP is a visualization and interactive explanation tool for ASP programs and their stable models.\n",
    "\n",
    "<!-- ![Example visualization](../docs/img/header.png) -->\n",
    "\n",
    "To visualize ASP programs in a jupyter notebook, simply import viasp_jupyter."
   ]
  },
  {
   "cell_type": "code",
   "execution_count": 2,
   "metadata": {},
   "outputs": [],
   "source": [
    "import viasp_jupyter as vj"
   ]
  },
  {
   "cell_type": "markdown",
   "metadata": {},
   "source": [
    "Save the program in same the directory as the notebook."
   ]
  },
  {
   "cell_type": "code",
   "execution_count": 2,
   "metadata": {},
   "outputs": [
    {
     "name": "stdout",
     "output_type": "stream",
     "text": [
      "Writing ab.lp\n"
     ]
    }
   ],
   "source": [
    "%%file ab.lp\n",
    "{a}.\n",
    "b :- a."
   ]
  },
  {
   "cell_type": "markdown",
   "metadata": {},
   "source": [
    "Call viasp to load the program and show it."
   ]
  },
  {
   "cell_type": "code",
   "execution_count": 3,
   "metadata": {},
   "outputs": [
    {
     "name": "stdout",
     "output_type": "stream",
     "text": [
      "Connecting to backend at http://localhost:5050\n",
      "Answer:\n",
      "\n",
      "Answer:\n",
      "a b\n",
      "SAT\n",
      "[INFO] (2022-08-10 15:31:51) Set models.\n",
      "[INFO] (2022-08-10 15:31:51) Reconstructing in progress.\n",
      "[INFO] (2022-08-10 15:31:51) Drawing in progress.\n"
     ]
    },
    {
     "name": "stderr",
     "output_type": "stream",
     "text": [
      "127.0.0.1 - - [10/Aug/2022 15:31:50] \"GET /healthcheck HTTP/1.1\" 200 -\n",
      "127.0.0.1 - - [10/Aug/2022 15:31:50] \"GET /healthcheck HTTP/1.1\" 200 -\n",
      "127.0.0.1 - - [10/Aug/2022 15:31:51] \"POST /control/add_call HTTP/1.1\" 200 -\n",
      "127.0.0.1 - - [10/Aug/2022 15:31:51] \"GET /healthcheck HTTP/1.1\" 200 -\n",
      "127.0.0.1 - - [10/Aug/2022 15:31:51] \"POST /control/add_call HTTP/1.1\" 200 -\n",
      "127.0.0.1 - - [10/Aug/2022 15:31:51] \"GET /healthcheck HTTP/1.1\" 200 -\n",
      "127.0.0.1 - - [10/Aug/2022 15:31:51] \"POST /control/add_call HTTP/1.1\" 200 -\n",
      "127.0.0.1 - - [10/Aug/2022 15:31:51] \"GET /healthcheck HTTP/1.1\" 200 -\n",
      "127.0.0.1 - - [10/Aug/2022 15:31:51] \"POST /control/add_call HTTP/1.1\" 200 -\n",
      "127.0.0.1 - - [10/Aug/2022 15:31:51] \"POST /control/models HTTP/1.1\" 200 -\n",
      "127.0.0.1 - - [10/Aug/2022 15:31:51] \"GET /control/reconstruct HTTP/1.1\" 200 -\n",
      "<block>:1:11-19: info: atom does not occur in any rule head:\n",
      "  model(a)\n",
      "\n",
      "<block>:1:42-50: info: atom does not occur in any rule head:\n",
      "  model(b)\n",
      "\n",
      "127.0.0.1 - - [10/Aug/2022 15:31:51] \"POST /control/show HTTP/1.1\" 200 -\n"
     ]
    },
    {
     "data": {
      "text/html": [
       "\n",
       "        <iframe\n",
       "            width=\"100%\"\n",
       "            height=\"650\"\n",
       "            src=\"http://127.0.0.1:8050/\"\n",
       "            frameborder=\"0\"\n",
       "            allowfullscreen\n",
       "            \n",
       "        ></iframe>\n",
       "        "
      ],
      "text/plain": [
       "<IPython.lib.display.IFrame at 0x7f6da1360970>"
      ]
     },
     "metadata": {},
     "output_type": "display_data"
    },
    {
     "name": "stderr",
     "output_type": "stream",
     "text": [
      "127.0.0.1 - - [10/Aug/2022 15:31:52] \"GET /control/warnings HTTP/1.1\" 200 -\n",
      "127.0.0.1 - - [10/Aug/2022 15:31:52] \"GET /healthcheck HTTP/1.1\" 200 -\n",
      "127.0.0.1 - - [10/Aug/2022 15:31:52] \"GET /graph/facts HTTP/1.1\" 200 -\n",
      "127.0.0.1 - - [10/Aug/2022 15:31:52] \"GET /graph/transformations HTTP/1.1\" 200 -\n",
      "127.0.0.1 - - [10/Aug/2022 15:31:53] \"GET /graph/transformations HTTP/1.1\" 200 -\n",
      "127.0.0.1 - - [10/Aug/2022 15:31:53] \"GET /healthcheck HTTP/1.1\" 200 -\n",
      "127.0.0.1 - - [10/Aug/2022 15:31:53] \"OPTIONS /graph/edges HTTP/1.1\" 200 -\n",
      "127.0.0.1 - - [10/Aug/2022 15:31:53] \"GET /healthcheck HTTP/1.1\" 200 -\n",
      "127.0.0.1 - - [10/Aug/2022 15:31:53] \"POST /graph/edges HTTP/1.1\" 200 -\n",
      "127.0.0.1 - - [10/Aug/2022 15:31:53] \"GET /graph/children/0 HTTP/1.1\" 200 -\n",
      "127.0.0.1 - - [10/Aug/2022 15:31:53] \"GET /graph/children/1 HTTP/1.1\" 200 -\n",
      "127.0.0.1 - - [10/Aug/2022 15:31:53] \"POST /graph/edges HTTP/1.1\" 200 -\n",
      "127.0.0.1 - - [10/Aug/2022 15:31:53] \"POST /graph/edges HTTP/1.1\" 200 -\n"
     ]
    }
   ],
   "source": [
    "vj.load(argv=['ab.lp'])\n",
    "vj.app.run_server(mode='inline')"
   ]
  },
  {
   "cell_type": "markdown",
   "metadata": {},
   "source": [
    "The server supports modes `inline` with visualizations in the notebook, and `external` with visualizations on [http://localhost:8050/](http://localhost:8050/)."
   ]
  },
  {
   "cell_type": "code",
   "execution_count": null,
   "metadata": {},
   "outputs": [],
   "source": [
    "%%file traveling.lp\n",
    "\n",
    "start(a).\n",
    "road(a,b). road(b,c). road(c,d). road(d,a).\n",
    "\n",
    "visit(Y) :- road(X,Y), start(X).\n",
    "\n",
    "visit(Y) :- road(X,Y), visit(X)."
   ]
  },
  {
   "cell_type": "code",
   "execution_count": null,
   "metadata": {},
   "outputs": [],
   "source": [
    "vj.load(argv=['traveling.lp'])\n",
    "vj.app.run_server(mode='external')"
   ]
  }
 ],
 "metadata": {
  "kernelspec": {
   "display_name": "Python 3.10.4 ('devviasp')",
   "language": "python",
   "name": "python3"
  },
  "language_info": {
   "codemirror_mode": {
    "name": "ipython",
    "version": 3
   },
   "file_extension": ".py",
   "mimetype": "text/x-python",
   "name": "python",
   "nbconvert_exporter": "python",
   "pygments_lexer": "ipython3",
   "version": "3.10.4"
  },
  "orig_nbformat": 4,
  "vscode": {
   "interpreter": {
    "hash": "1785f8d9ecd06a5253af1fb2e0a107be454014433d34b629cfe3c91c9b2ab96a"
   }
  }
 },
 "nbformat": 4,
 "nbformat_minor": 2
}
